{
 "cells": [
  {
   "cell_type": "code",
   "execution_count": 162,
   "metadata": {
    "collapsed": true
   },
   "outputs": [],
   "source": [
    "import sys, os\n",
    "sys.path.append(os.path.join(sys.path[0], 'tfGCN'))"
   ]
  },
  {
   "cell_type": "code",
   "execution_count": 163,
   "metadata": {
    "collapsed": false
   },
   "outputs": [],
   "source": [
    "%matplotlib inline\n",
    "\n",
    "import numpy as np\n",
    "import matplotlib\n",
    "import matplotlib.pyplot as plt\n",
    "\n",
    "import time\n",
    "from tqdm import tqdm\n",
    "import tensorflow as tf\n",
    "\n",
    "from models import GCN, HashedGCN\n",
    "from utils import *"
   ]
  },
  {
   "cell_type": "code",
   "execution_count": 165,
   "metadata": {
    "collapsed": false
   },
   "outputs": [],
   "source": [
    "# Set random seed\n",
    "seed = 123"
   ]
  },
  {
   "cell_type": "code",
   "execution_count": null,
   "metadata": {
    "collapsed": false
   },
   "outputs": [],
   "source": [
    "# Settings\n",
    "flags = tf.app.flags \n",
    "FLAGS = tf.app.flags.FLAGS\n",
    "flags.DEFINE_string('dataset', 'cora', 'Dataset string.')  # 'cora', 'citeseer', 'pubmed'\n",
    "flags.DEFINE_string('model', 'gcn', 'Model string.')  # 'gcn', 'gcn_cheby', 'hashed_gcn', 'dense'\n",
    "flags.DEFINE_float('learning_rate', 0.01, 'Initial learning rate.')\n",
    "flags.DEFINE_integer('epochs', 200, 'Number of epochs to train.')\n",
    "flags.DEFINE_integer('hidden1', 16, 'Number of units in hidden layer 1.')\n",
    "flags.DEFINE_float('dropout', 0.5, 'Dropout rate (1 - keep probability).')\n",
    "flags.DEFINE_float('weight_decay', 5e-4, 'Weight for L2 loss on embedding matrix.')\n",
    "flags.DEFINE_integer('early_stopping', 10, 'Tolerance for early stopping (# of epochs).')\n",
    "flags.DEFINE_integer('max_degree', 3, 'Maximum Chebyshev polynomial degree.')\n",
    "flags.DEFINE_integer('compression_factor1', 1, 'Hashed GCN weight compression factor (layer 1).')\n",
    "flags.DEFINE_integer('compression_factor2', 1, 'Hashed GCN weight compression factor (layer 2).')\n",
    "tf.app.flags.DEFINE_string('f', '', 'kernel')"
   ]
  },
  {
   "cell_type": "code",
   "execution_count": 4,
   "metadata": {
    "collapsed": false
   },
   "outputs": [],
   "source": [
    "# Load data\n",
    "adj, features, y_train, y_val, y_test, train_mask, val_mask, test_mask = load_data(FLAGS.dataset)\n",
    "\n",
    "# Some preprocessing\n",
    "features = preprocess_features(features)\n",
    "\n",
    "support = [preprocess_adj(adj)]\n",
    "num_supports = 1"
   ]
  },
  {
   "cell_type": "code",
   "execution_count": 5,
   "metadata": {
    "collapsed": true
   },
   "outputs": [],
   "source": [
    "# Define placeholders\n",
    "placeholders = {\n",
    "    'support': [tf.sparse_placeholder(tf.float32) for _ in range(num_supports)],\n",
    "    'features': tf.sparse_placeholder(tf.float32, shape=tf.constant(features[2], dtype=tf.int64)),\n",
    "    'labels': tf.placeholder(tf.float32, shape=(None, y_train.shape[1])),\n",
    "    'labels_mask': tf.placeholder(tf.int32),\n",
    "    'dropout': tf.placeholder_with_default(0., shape=()),\n",
    "    'num_features_nonzero': tf.placeholder(tf.int32)  # helper variable for sparse dropout\n",
    "}"
   ]
  },
  {
   "cell_type": "code",
   "execution_count": 13,
   "metadata": {
    "collapsed": true
   },
   "outputs": [],
   "source": [
    "# Define model evaluation function\n",
    "def evaluate(features, support, labels, mask, placeholders):\n",
    "    t_test = time.time()\n",
    "    feed_dict_val = construct_feed_dict(features, support, labels, mask, placeholders)\n",
    "    outs_val = sess.run([model.loss, model.accuracy], feed_dict=feed_dict_val)\n",
    "    return outs_val[0], outs_val[1], (time.time() - t_test)"
   ]
  },
  {
   "cell_type": "code",
   "execution_count": 78,
   "metadata": {
    "collapsed": false
   },
   "outputs": [],
   "source": [
    "model = GCN(placeholders, input_dim=features[2][1], logging=True)"
   ]
  },
  {
   "cell_type": "code",
   "execution_count": 89,
   "metadata": {
    "collapsed": false
   },
   "outputs": [],
   "source": [
    "# Reseed\n",
    "np.random.seed(seed)\n",
    "tf.set_random_seed(seed)\n",
    "\n",
    "# Initialize session\n",
    "sess = tf.Session()\n",
    "sess.run(tf.global_variables_initializer())"
   ]
  },
  {
   "cell_type": "code",
   "execution_count": 90,
   "metadata": {
    "collapsed": false
   },
   "outputs": [
    {
     "name": "stdout",
     "output_type": "stream",
     "text": [
      "Baseline accuracy: 0.80899906\n"
     ]
    }
   ],
   "source": [
    "cost_val = []\n",
    "\n",
    "# Train model\n",
    "for epoch in range(FLAGS.epochs):\n",
    "    t = time.time()\n",
    "    # Construct feed dictionary\n",
    "    feed_dict = construct_feed_dict(features, support, y_train, train_mask, placeholders)\n",
    "    feed_dict.update({placeholders['dropout']: FLAGS.dropout})\n",
    "\n",
    "    # Training step\n",
    "    outs = sess.run([model.opt_op, model.loss, model.accuracy], feed_dict=feed_dict)\n",
    "\n",
    "    # Validation\n",
    "    cost, acc, duration = evaluate(features, support, y_val, val_mask, placeholders)\n",
    "    cost_val.append(cost)\n",
    "\n",
    "#     # Print results\n",
    "#     print(\"Epoch:\", '%04d' % (epoch + 1), \"train_loss=\", \"{:.5f}\".format(outs[1]),\n",
    "#           \"train_acc=\", \"{:.5f}\".format(outs[2]), \"val_loss=\", \"{:.5f}\".format(cost),\n",
    "#           \"val_acc=\", \"{:.5f}\".format(acc), \"time=\", \"{:.5f}\".format(time.time() - t))\n",
    "\n",
    "    if epoch > FLAGS.early_stopping and cost_val[-1] > np.mean(cost_val[-(FLAGS.early_stopping+1):-1]):\n",
    "        print(\"Early stopping...\")\n",
    "        break\n",
    "        \n",
    "_, baseline_acc, _ = evaluate(features, support, y_test, test_mask, placeholders)\n",
    "print(\"Baseline accuracy:\", baseline_acc)"
   ]
  },
  {
   "cell_type": "code",
   "execution_count": 148,
   "metadata": {
    "collapsed": false,
    "scrolled": true
   },
   "outputs": [
    {
     "name": "stderr",
     "output_type": "stream",
     "text": [
      "\n",
      "\n",
      "  0%|                                                    | 0/8 [00:00<?, ?it/s]\n",
      "\n",
      " 12%|█████▍                                     | 1/8 [06:18<44:05, 377.94s/it]\n",
      "\n",
      " 25%|██████████▊                                | 2/8 [12:24<37:27, 374.66s/it]\n",
      "\n",
      " 38%|████████████████▏                          | 3/8 [19:01<31:46, 381.33s/it]\n",
      "\n",
      " 50%|█████████████████████▌                     | 4/8 [25:37<25:42, 385.59s/it]\n",
      "\n",
      " 62%|██████████████████████████▉                | 5/8 [32:07<19:20, 386.97s/it]\n",
      "\n",
      " 75%|████████████████████████████████▎          | 6/8 [38:57<13:07, 393.87s/it]\n",
      "\n",
      " 88%|█████████████████████████████████████▋     | 7/8 [45:46<06:38, 398.30s/it]\n",
      "\n",
      "100%|███████████████████████████████████████████| 8/8 [52:30<00:00, 400.15s/it]\n",
      "\n"
     ]
    }
   ],
   "source": [
    "compression_factors = [1, 2, 4, 8, 16, 32, 64, 128]\n",
    "compression_accuracies = []\n",
    "num_runs = 5\n",
    "\n",
    "for cf in tqdm(compression_factors):\n",
    "    FLAGS.compression_factor1 = cf\n",
    "    FLAGS.compression_factor2 = 1\n",
    "    np.random.seed(seed)\n",
    "    tf.set_random_seed(seed)\n",
    "    all_acc = []\n",
    "    \n",
    "    for _ in range(num_runs):\n",
    "        model = HashedGCN(placeholders, input_dim=features[2][1], logging=True)\n",
    "        sess = tf.Session()\n",
    "        sess.run(tf.global_variables_initializer())\n",
    "\n",
    "        cost_val = []\n",
    "        # Train model\n",
    "        for epoch in range(FLAGS.epochs):\n",
    "            t = time.time()\n",
    "\n",
    "            feed_dict = construct_feed_dict(features, support, y_train, train_mask, placeholders)\n",
    "            feed_dict.update({placeholders['dropout']: FLAGS.dropout})\n",
    "\n",
    "            # Training step\n",
    "            outs = sess.run([model.opt_op, model.loss, model.accuracy], feed_dict=feed_dict)\n",
    "\n",
    "            # Validation\n",
    "            cost, acc, duration = evaluate(features, support, y_val, val_mask, placeholders)\n",
    "            cost_val.append(cost)\n",
    "\n",
    "            if epoch > FLAGS.early_stopping and cost_val[-1] > np.mean(cost_val[-(FLAGS.early_stopping+1):-1]):\n",
    "                break\n",
    "        _, compressed_acc, _ = evaluate(features, support, y_test, test_mask, placeholders)\n",
    "        all_acc.append(compressed_acc)\n",
    "    compression_accuracies.append(all_acc)\n",
    "compression_accuracies = np.asarray(compression_accuracies)"
   ]
  },
  {
   "cell_type": "code",
   "execution_count": 157,
   "metadata": {
    "collapsed": true
   },
   "outputs": [],
   "source": [
    "compression_accuracies_median = (1 - np.median(compression_accuracies, axis=1)) * 100\n",
    "compression_accuracies_std = np.std(compression_accuracies, axis=1) * 100"
   ]
  },
  {
   "cell_type": "code",
   "execution_count": 160,
   "metadata": {
    "collapsed": false
   },
   "outputs": [
    {
     "data": {
      "image/png": "[encoded data removed]",
      "text/plain": [
       "<matplotlib.figure.Figure at 0x1769eb314a8>"
      ]
     },
     "metadata": {},
     "output_type": "display_data"
    }
   ],
   "source": [
    "# Plot compression vs accuracy\n",
    "x = np.arange(8)\n",
    "plt.xlabel(\"Compression factor (Layer 1 only)\")\n",
    "plt.ylabel(\"Test error (%)\")\n",
    "plt.errorbar(x, compression_accuracies_median, compression_accuracies_std, \\\n",
    "             label=\"HashNet\", linewidth=2.0, marker='v', capsize=3)\n",
    "fig = plt.plot(x, (1 - np.repeat(baseline_acc, 8)) * 100, label=\"Uncompressed\", linewidth=2.0, linestyle='--', color='black')\n",
    "plt.xticks(x, [\"1\", \"1/2\", \"1/4\", \"1/8\", \"1/16\", \"1/32\", \"1/64\", \"1/128\"])\n",
    "leg = plt.legend()"
   ]
  },
  {
   "cell_type": "code",
   "execution_count": 161,
   "metadata": {
    "collapsed": true
   },
   "outputs": [],
   "source": [
    "with open('compression_layer1.png','wb') as f:\n",
    "    fig[0].figure.savefig(f, format='png', dpi=144)"
   ]
  },
  {
   "cell_type": "code",
   "execution_count": 166,
   "metadata": {
    "collapsed": false
   },
   "outputs": [
    {
     "name": "stderr",
     "output_type": "stream",
     "text": [
      "\n",
      "\n",
      "  0%|                                                    | 0/4 [00:00<?, ?it/s]\n",
      "\n",
      " 25%|██████████▊                                | 1/4 [07:15<21:46, 435.58s/it]\n",
      "\n",
      " 50%|█████████████████████▌                     | 2/4 [13:47<14:04, 422.38s/it]\n",
      "\n",
      " 75%|████████████████████████████████▎          | 3/4 [19:57<06:46, 406.67s/it]\n",
      "\n",
      "100%|███████████████████████████████████████████| 4/4 [26:38<00:00, 405.00s/it]\n",
      "\n",
      "\n",
      "\n",
      "  0%|                                                    | 0/6 [00:00<?, ?it/s]\n",
      "\n",
      " 17%|███████▏                                   | 1/6 [07:49<39:06, 469.26s/it]\n",
      "\n",
      " 33%|██████████████▎                            | 2/6 [15:47<31:28, 472.09s/it]\n",
      "\n",
      " 50%|█████████████████████▌                     | 3/6 [23:45<23:40, 473.62s/it]\n",
      "\n",
      " 67%|████████████████████████████▋              | 4/6 [31:51<15:54, 477.29s/it]\n",
      "\n",
      " 83%|███████████████████████████████████▊       | 5/6 [40:07<08:03, 483.00s/it]\n",
      "\n",
      "100%|███████████████████████████████████████████| 6/6 [48:46<00:00, 493.75s/it]\n",
      "\n"
     ]
    }
   ],
   "source": [
    "compression_factors_base = [1, 2, 4, 8]\n",
    "compression_factors_hashed = [1, 2, 4, 8, 16, 32]\n",
    "num_runs = 5\n",
    "\n",
    "base_compression_accuracies = []\n",
    "both_layer_compression_accuracies = []\n",
    "for cf in tqdm(compression_factors_base):\n",
    "    FLAGS.hidden1 = 16 // cf\n",
    "    np.random.seed(seed)\n",
    "    tf.set_random_seed(seed)\n",
    "    all_acc = []\n",
    "    for _ in range(num_runs):\n",
    "        model = GCN(placeholders, input_dim=features[2][1], logging=True)\n",
    "        sess = tf.Session()\n",
    "        sess.run(tf.global_variables_initializer())\n",
    "\n",
    "        cost_val = []\n",
    "        # Train model\n",
    "        for epoch in range(FLAGS.epochs):\n",
    "            t = time.time()\n",
    "\n",
    "            feed_dict = construct_feed_dict(features, support, y_train, train_mask, placeholders)\n",
    "            feed_dict.update({placeholders['dropout']: FLAGS.dropout})\n",
    "\n",
    "            # Training step\n",
    "            outs = sess.run([model.opt_op, model.loss, model.accuracy], feed_dict=feed_dict)\n",
    "\n",
    "            # Validation\n",
    "            cost, acc, duration = evaluate(features, support, y_val, val_mask, placeholders)\n",
    "            cost_val.append(cost)\n",
    "\n",
    "            if epoch > FLAGS.early_stopping and cost_val[-1] > np.mean(cost_val[-(FLAGS.early_stopping+1):-1]):\n",
    "                break\n",
    "        _, compressed_acc, _ = evaluate(features, support, y_test, test_mask, placeholders)\n",
    "        all_acc.append(compressed_acc)\n",
    "    base_compression_accuracies.append(all_acc)\n",
    "\n",
    "FLAGS.hidden1 = 16\n",
    "    \n",
    "for cf in tqdm(compression_factors_hashed):\n",
    "    FLAGS.compression_factor1 = cf\n",
    "    FLAGS.compression_factor2 = cf\n",
    "    np.random.seed(seed)\n",
    "    tf.set_random_seed(seed)\n",
    "    all_acc = []\n",
    "    for _ in range(num_runs):\n",
    "        model = HashedGCN(placeholders, input_dim=features[2][1], logging=True)\n",
    "        sess = tf.Session()\n",
    "        sess.run(tf.global_variables_initializer())\n",
    "\n",
    "        cost_val = []\n",
    "        # Train model\n",
    "        for epoch in range(FLAGS.epochs):\n",
    "            t = time.time()\n",
    "\n",
    "            feed_dict = construct_feed_dict(features, support, y_train, train_mask, placeholders)\n",
    "            feed_dict.update({placeholders['dropout']: FLAGS.dropout})\n",
    "\n",
    "            # Training step\n",
    "            outs = sess.run([model.opt_op, model.loss, model.accuracy], feed_dict=feed_dict)\n",
    "\n",
    "            # Validation\n",
    "            cost, acc, duration = evaluate(features, support, y_val, val_mask, placeholders)\n",
    "            cost_val.append(cost)\n",
    "\n",
    "            if epoch > FLAGS.early_stopping and cost_val[-1] > np.mean(cost_val[-(FLAGS.early_stopping+1):-1]):\n",
    "                break\n",
    "        _, compressed_acc, _ = evaluate(features, support, y_test, test_mask, placeholders)\n",
    "        all_acc.append(compressed_acc)\n",
    "    both_layer_compression_accuracies.append(all_acc)\n",
    "    \n",
    "base_compression_accuracies = np.asarray(base_compression_accuracies)\n",
    "both_layer_compression_accuracies = np.asarray(both_layer_compression_accuracies)"
   ]
  },
  {
   "cell_type": "code",
   "execution_count": 170,
   "metadata": {
    "collapsed": true
   },
   "outputs": [],
   "source": [
    "both_layer_compression_median = (1 - np.median(both_layer_compression_accuracies, axis=1)) * 100\n",
    "both_layer_compression_std = np.std(both_layer_compression_accuracies, axis=1) * 100\n",
    "base_compression_median = (1 - np.median(base_compression_accuracies, axis=1)) * 100\n",
    "base_compression_std = np.std(base_compression_accuracies, axis=1) * 100"
   ]
  },
  {
   "cell_type": "code",
   "execution_count": 171,
   "metadata": {
    "collapsed": false
   },
   "outputs": [
    {
     "data": {
      "image/png": "[encoded data removed]",
      "text/plain": [
       "<matplotlib.figure.Figure at 0x177731a8ac8>"
      ]
     },
     "metadata": {},
     "output_type": "display_data"
    }
   ],
   "source": [
    "# Plot comparison between hashed and equiv size unhashed\n",
    "x = np.arange(len(compression_factors_hashed))\n",
    "plt.xlabel(\"Compression factor\")\n",
    "plt.ylabel(\"Test error (%)\")\n",
    "plt.errorbar(x, both_layer_compression_median, both_layer_compression_std, label=\"HashNet\", linewidth=2.0, marker='v', capsize=3)\n",
    "fig = plt.errorbar(x[:len(compression_factors_base)], base_compression_median, base_compression_std, \\\n",
    "                   label=\"Neural Network, Equiv. Size\", linewidth=2.0, marker='o', linestyle='--', color='black', capsize=3)\n",
    "plt.xticks(x, [\"1\", \"1/2\", \"1/4\", \"1/8\", \"1/16\", \"1/32\", \"1/64\", \"1/128\"])\n",
    "leg = plt.legend()"
   ]
  },
  {
   "cell_type": "code",
   "execution_count": 172,
   "metadata": {
    "collapsed": false
   },
   "outputs": [],
   "source": [
    "with open('compression_equiv.png','wb') as f:\n",
    "    fig[0].figure.savefig(f, format='png', dpi=144)"
   ]
  },
  {
   "cell_type": "code",
   "execution_count": null,
   "metadata": {
    "collapsed": true
   },
   "outputs": [],
   "source": []
  }
 ],
 "metadata": {
  "kernelspec": {
   "display_name": "Python [default]",
   "language": "python",
   "name": "python3"
  },
  "language_info": {
   "codemirror_mode": {
    "name": "ipython",
    "version": 3
   },
   "file_extension": ".py",
   "mimetype": "text/x-python",
   "name": "python",
   "nbconvert_exporter": "python",
   "pygments_lexer": "ipython3",
   "version": "3.6.1"
  }
 },
 "nbformat": 4,
 "nbformat_minor": 2
}
