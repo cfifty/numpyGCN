{
 "cells": [
  {
   "cell_type": "code",
   "execution_count": 47,
   "metadata": {
    "collapsed": false
   },
   "outputs": [],
   "source": [
    "%matplotlib inline\n",
    "\n",
    "import numpy as np\n",
    "import matplotlib\n",
    "import matplotlib.pyplot as plt\n",
    "\n",
    "import time\n",
    "from tqdm import tqdm\n",
    "import tensorflow as tf\n",
    "\n",
    "from tfGCN.models import GCN, HashedGCN\n",
    "from tfGCN.utils import *"
   ]
  },
  {
   "cell_type": "code",
   "execution_count": 2,
   "metadata": {
    "collapsed": false
   },
   "outputs": [],
   "source": [
    "# Set random seed\n",
    "seed = 123"
   ]
  },
  {
   "cell_type": "code",
   "execution_count": 3,
   "metadata": {
    "collapsed": false
   },
   "outputs": [],
   "source": [
    "# Settings\n",
    "flags = tf.app.flags \n",
    "FLAGS = tf.app.flags.FLAGS\n",
    "flags.DEFINE_string('dataset', 'cora', 'Dataset string.')  # 'cora', 'citeseer', 'pubmed'\n",
    "flags.DEFINE_string('model', 'gcn', 'Model string.')  # 'gcn', 'gcn_cheby', 'hashed_gcn', 'dense'\n",
    "flags.DEFINE_float('learning_rate', 0.01, 'Initial learning rate.')\n",
    "flags.DEFINE_integer('epochs', 200, 'Number of epochs to train.')\n",
    "flags.DEFINE_integer('hidden1', 16, 'Number of units in hidden layer 1.')\n",
    "flags.DEFINE_float('dropout', 0.5, 'Dropout rate (1 - keep probability).')\n",
    "flags.DEFINE_float('weight_decay', 5e-4, 'Weight for L2 loss on embedding matrix.')\n",
    "flags.DEFINE_integer('early_stopping', 10, 'Tolerance for early stopping (# of epochs).')\n",
    "flags.DEFINE_integer('max_degree', 3, 'Maximum Chebyshev polynomial degree.')\n",
    "flags.DEFINE_integer('compression_factor1', 1, 'Hashed GCN weight compression factor (layer 1).')\n",
    "flags.DEFINE_integer('compression_factor2', 1, 'Hashed GCN weight compression factor (layer 2).')\n",
    "tf.app.flags.DEFINE_string('f', '', 'kernel')"
   ]
  },
  {
   "cell_type": "code",
   "execution_count": 4,
   "metadata": {
    "collapsed": false
   },
   "outputs": [],
   "source": [
    "# Load data\n",
    "adj, features, y_train, y_val, y_test, train_mask, val_mask, test_mask = load_data(FLAGS.dataset)\n",
    "\n",
    "# Some preprocessing\n",
    "features = preprocess_features(features)\n",
    "\n",
    "support = [preprocess_adj(adj)]\n",
    "num_supports = 1"
   ]
  },
  {
   "cell_type": "code",
   "execution_count": 5,
   "metadata": {
    "collapsed": true
   },
   "outputs": [],
   "source": [
    "# Define placeholders\n",
    "placeholders = {\n",
    "    'support': [tf.sparse_placeholder(tf.float32) for _ in range(num_supports)],\n",
    "    'features': tf.sparse_placeholder(tf.float32, shape=tf.constant(features[2], dtype=tf.int64)),\n",
    "    'labels': tf.placeholder(tf.float32, shape=(None, y_train.shape[1])),\n",
    "    'labels_mask': tf.placeholder(tf.int32),\n",
    "    'dropout': tf.placeholder_with_default(0., shape=()),\n",
    "    'num_features_nonzero': tf.placeholder(tf.int32)  # helper variable for sparse dropout\n",
    "}"
   ]
  },
  {
   "cell_type": "code",
   "execution_count": 13,
   "metadata": {
    "collapsed": true
   },
   "outputs": [],
   "source": [
    "# Define model evaluation function\n",
    "def evaluate(features, support, labels, mask, placeholders):\n",
    "    t_test = time.time()\n",
    "    feed_dict_val = construct_feed_dict(features, support, labels, mask, placeholders)\n",
    "    outs_val = sess.run([model.loss, model.accuracy], feed_dict=feed_dict_val)\n",
    "    return outs_val[0], outs_val[1], (time.time() - t_test)"
   ]
  },
  {
   "cell_type": "code",
   "execution_count": 78,
   "metadata": {
    "collapsed": false
   },
   "outputs": [],
   "source": [
    "model = GCN(placeholders, input_dim=features[2][1], logging=True)"
   ]
  },
  {
   "cell_type": "code",
   "execution_count": 89,
   "metadata": {
    "collapsed": false
   },
   "outputs": [],
   "source": [
    "# Reseed\n",
    "np.random.seed(seed)\n",
    "tf.set_random_seed(seed)\n",
    "\n",
    "# Initialize session\n",
    "sess = tf.Session()\n",
    "sess.run(tf.global_variables_initializer())"
   ]
  },
  {
   "cell_type": "code",
   "execution_count": 90,
   "metadata": {
    "collapsed": false
   },
   "outputs": [
    {
     "name": "stdout",
     "output_type": "stream",
     "text": [
      "Baseline accuracy: 0.80899906\n"
     ]
    }
   ],
   "source": [
    "cost_val = []\n",
    "\n",
    "# Train model\n",
    "for epoch in range(FLAGS.epochs):\n",
    "    t = time.time()\n",
    "    # Construct feed dictionary\n",
    "    feed_dict = construct_feed_dict(features, support, y_train, train_mask, placeholders)\n",
    "    feed_dict.update({placeholders['dropout']: FLAGS.dropout})\n",
    "\n",
    "    # Training step\n",
    "    outs = sess.run([model.opt_op, model.loss, model.accuracy], feed_dict=feed_dict)\n",
    "\n",
    "    # Validation\n",
    "    cost, acc, duration = evaluate(features, support, y_val, val_mask, placeholders)\n",
    "    cost_val.append(cost)\n",
    "\n",
    "#     # Print results\n",
    "#     print(\"Epoch:\", '%04d' % (epoch + 1), \"train_loss=\", \"{:.5f}\".format(outs[1]),\n",
    "#           \"train_acc=\", \"{:.5f}\".format(outs[2]), \"val_loss=\", \"{:.5f}\".format(cost),\n",
    "#           \"val_acc=\", \"{:.5f}\".format(acc), \"time=\", \"{:.5f}\".format(time.time() - t))\n",
    "\n",
    "    if epoch > FLAGS.early_stopping and cost_val[-1] > np.mean(cost_val[-(FLAGS.early_stopping+1):-1]):\n",
    "        print(\"Early stopping...\")\n",
    "        break\n",
    "        \n",
    "_, baseline_acc, _ = evaluate(features, support, y_test, test_mask, placeholders)\n",
    "print(\"Baseline accuracy:\", baseline_acc)"
   ]
  },
  {
   "cell_type": "code",
   "execution_count": 145,
   "metadata": {
    "collapsed": false,
    "scrolled": true
   },
   "outputs": [
    {
     "name": "stderr",
     "output_type": "stream",
     "text": [
      "\n",
      "\n",
      "  0%|                                                    | 0/8 [00:00<?, ?it/s]\n",
      "\n",
      " 12%|█████▍                                     | 1/8 [04:09<29:08, 249.83s/it]\n",
      "\n",
      " 25%|██████████▊                                | 2/8 [08:30<25:18, 253.14s/it]\n",
      "\n",
      " 38%|████████████████▏                          | 3/8 [12:57<21:26, 257.26s/it]\n",
      "\n",
      " 50%|█████████████████████▌                     | 4/8 [17:30<17:27, 261.83s/it]\n",
      "\n",
      " 62%|██████████████████████████▉                | 5/8 [22:16<13:27, 269.18s/it]\n",
      "\n",
      " 75%|████████████████████████████████▎          | 6/8 [27:10<09:13, 276.63s/it]\n",
      "\n",
      " 88%|█████████████████████████████████████▋     | 7/8 [32:16<04:45, 285.35s/it]\n",
      "\n",
      "100%|███████████████████████████████████████████| 8/8 [37:28<00:00, 293.42s/it]\n",
      "\n"
     ]
    }
   ],
   "source": [
    "compression_factors = [1, 2, 4, 8, 16, 32, 64, 128]\n",
    "compression_accuracies = []\n",
    "num_runs = 5\n",
    "\n",
    "for cf in tqdm(compression_factors):\n",
    "    FLAGS.compression_factor1 = cf\n",
    "    FLAGS.compression_factor2 = 1\n",
    "    np.random.seed(seed)\n",
    "    tf.set_random_seed(seed)\n",
    "    all_acc = []\n",
    "    \n",
    "    for _ in range(num_runs):\n",
    "        model = HashedGCN(placeholders, input_dim=features[2][1], logging=True)\n",
    "        sess = tf.Session()\n",
    "        sess.run(tf.global_variables_initializer())\n",
    "\n",
    "        cost_val = []\n",
    "        # Train model\n",
    "        for epoch in range(FLAGS.epochs):\n",
    "            t = time.time()\n",
    "\n",
    "            feed_dict = construct_feed_dict(features, support, y_train, train_mask, placeholders)\n",
    "            feed_dict.update({placeholders['dropout']: FLAGS.dropout})\n",
    "\n",
    "            # Training step\n",
    "            outs = sess.run([model.opt_op, model.loss, model.accuracy], feed_dict=feed_dict)\n",
    "\n",
    "            # Validation\n",
    "            cost, acc, duration = evaluate(features, support, y_val, val_mask, placeholders)\n",
    "            cost_val.append(cost)\n",
    "\n",
    "            if epoch > FLAGS.early_stopping and cost_val[-1] > np.mean(cost_val[-(FLAGS.early_stopping+1):-1]):\n",
    "                break\n",
    "        _, compressed_acc, _ = evaluate(features, support, y_test, test_mask, placeholders)\n",
    "        all_acc.append(compressed_acc)\n",
    "    compression_accuracies.append(np.median(all_acc))\n",
    "compression_accuracies = np.asarray(compression_accuracies)"
   ]
  },
  {
   "cell_type": "code",
   "execution_count": 146,
   "metadata": {
    "collapsed": false
   },
   "outputs": [
    {
     "data": {
      "image/png": "[encoded data removed]",
      "text/plain": [
       "<matplotlib.figure.Figure at 0x176f9443dd8>"
      ]
     },
     "metadata": {},
     "output_type": "display_data"
    }
   ],
   "source": [
    "# Plot compression vs accuracy\n",
    "x = np.arange(8)\n",
    "plt.xlabel(\"Compression factor (Layer 1 only)\")\n",
    "plt.ylabel(\"Test error (%)\")\n",
    "plt.plot(x, (1 - compression_accuracies) * 100, label=\"HashNet\", linewidth=2.0, marker='v')\n",
    "fig = plt.plot(x, (1 - np.repeat(baseline_acc, 8)) * 100, label=\"Uncompressed\", linewidth=2.0, linestyle='--', color='black')\n",
    "plt.xticks(x, [\"1\", \"1/2\", \"1/4\", \"1/8\", \"1/16\", \"1/32\", \"1/64\", \"1/128\"])\n",
    "leg = plt.legend()"
   ]
  },
  {
   "cell_type": "code",
   "execution_count": 147,
   "metadata": {
    "collapsed": true
   },
   "outputs": [],
   "source": [
    "with open('compression_layer1.png','wb') as f:\n",
    "    fig[0].figure.savefig(f, format='png', dpi=144)"
   ]
  },
  {
   "cell_type": "code",
   "execution_count": 137,
   "metadata": {
    "collapsed": false
   },
   "outputs": [
    {
     "name": "stderr",
     "output_type": "stream",
     "text": [
      "\n",
      "  0%|                                                    | 0/4 [00:00<?, ?it/s]\n",
      " 25%|██████████▊                                | 1/4 [02:32<07:38, 152.95s/it]\n",
      " 50%|█████████████████████▌                     | 2/4 [04:31<04:45, 142.50s/it]\n",
      " 75%|████████████████████████████████▎          | 3/4 [06:20<02:12, 132.50s/it]\n",
      "100%|███████████████████████████████████████████| 4/4 [08:02<00:00, 123.55s/it]\n",
      "\n",
      "  0%|                                                    | 0/6 [00:00<?, ?it/s]\n",
      " 17%|███████▏                                   | 1/6 [02:46<13:52, 166.45s/it]\n",
      " 33%|██████████████▎                            | 2/6 [05:39<11:13, 168.43s/it]\n",
      " 50%|█████████████████████▌                     | 3/6 [08:29<08:26, 168.77s/it]\n",
      " 67%|████████████████████████████▋              | 4/6 [11:22<05:40, 170.20s/it]\n",
      " 83%|███████████████████████████████████▊       | 5/6 [14:21<02:52, 172.77s/it]\n",
      "100%|███████████████████████████████████████████| 6/6 [17:06<00:00, 170.34s/it]\n"
     ]
    }
   ],
   "source": [
    "compression_factors_base = [1, 2, 4, 8]\n",
    "compression_factors_hashed = [1, 2, 4, 8, 16, 32]\n",
    "num_runs = 5\n",
    "\n",
    "base_compression_accuracies = []\n",
    "both_layer_compression_accuracies = []\n",
    "for cf in tqdm(compression_factors_base):\n",
    "    FLAGS.hidden1 = 16 // cf\n",
    "    np.random.seed(seed)\n",
    "    tf.set_random_seed(seed)\n",
    "    all_acc = []\n",
    "    for _ in range(num_runs):\n",
    "        model = GCN(placeholders, input_dim=features[2][1], logging=True)\n",
    "        sess = tf.Session()\n",
    "        sess.run(tf.global_variables_initializer())\n",
    "\n",
    "        cost_val = []\n",
    "        # Train model\n",
    "        for epoch in range(FLAGS.epochs):\n",
    "            t = time.time()\n",
    "\n",
    "            feed_dict = construct_feed_dict(features, support, y_train, train_mask, placeholders)\n",
    "            feed_dict.update({placeholders['dropout']: FLAGS.dropout})\n",
    "\n",
    "            # Training step\n",
    "            outs = sess.run([model.opt_op, model.loss, model.accuracy], feed_dict=feed_dict)\n",
    "\n",
    "            # Validation\n",
    "            cost, acc, duration = evaluate(features, support, y_val, val_mask, placeholders)\n",
    "            cost_val.append(cost)\n",
    "\n",
    "            if epoch > FLAGS.early_stopping and cost_val[-1] > np.mean(cost_val[-(FLAGS.early_stopping+1):-1]):\n",
    "                break\n",
    "        _, compressed_acc, _ = evaluate(features, support, y_test, test_mask, placeholders)\n",
    "        all_acc.append(compressed_acc)\n",
    "    base_compression_accuracies.append(np.median(all_acc))\n",
    "\n",
    "FLAGS.hidden1 = 16\n",
    "    \n",
    "for cf in tqdm(compression_factors_hashed):\n",
    "    FLAGS.compression_factor1 = cf\n",
    "    FLAGS.compression_factor2 = cf\n",
    "    np.random.seed(seed)\n",
    "    tf.set_random_seed(seed)\n",
    "    all_acc = []\n",
    "    for _ in range(num_runs):\n",
    "        model = HashedGCN(placeholders, input_dim=features[2][1], logging=True)\n",
    "        sess = tf.Session()\n",
    "        sess.run(tf.global_variables_initializer())\n",
    "\n",
    "        cost_val = []\n",
    "        # Train model\n",
    "        for epoch in range(FLAGS.epochs):\n",
    "            t = time.time()\n",
    "\n",
    "            feed_dict = construct_feed_dict(features, support, y_train, train_mask, placeholders)\n",
    "            feed_dict.update({placeholders['dropout']: FLAGS.dropout})\n",
    "\n",
    "            # Training step\n",
    "            outs = sess.run([model.opt_op, model.loss, model.accuracy], feed_dict=feed_dict)\n",
    "\n",
    "            # Validation\n",
    "            cost, acc, duration = evaluate(features, support, y_val, val_mask, placeholders)\n",
    "            cost_val.append(cost)\n",
    "\n",
    "            if epoch > FLAGS.early_stopping and cost_val[-1] > np.mean(cost_val[-(FLAGS.early_stopping+1):-1]):\n",
    "                break\n",
    "        _, compressed_acc, _ = evaluate(features, support, y_test, test_mask, placeholders)\n",
    "        all_acc.append(compressed_acc)\n",
    "    both_layer_compression_accuracies.append(np.median(all_acc))\n",
    "    \n",
    "base_compression_accuracies = np.asarray(base_compression_accuracies)\n",
    "both_layer_compression_accuracies = np.asarray(both_layer_compression_accuracies)"
   ]
  },
  {
   "cell_type": "code",
   "execution_count": 140,
   "metadata": {
    "collapsed": false
   },
   "outputs": [
    {
     "data": {
      "image/png": "[encoded data removed]",
      "text/plain": [
       "<matplotlib.figure.Figure at 0x1769e8a1cc0>"
      ]
     },
     "metadata": {},
     "output_type": "display_data"
    }
   ],
   "source": [
    "# Plot comparison between hashed and equiv size unhashed\n",
    "x = np.arange(len(compression_factors_hashed))\n",
    "plt.xlabel(\"Compression factor\")\n",
    "plt.ylabel(\"Test error (%)\")\n",
    "plt.plot(x, (1 - both_layer_compression_accuracies) * 100, label=\"HashNet\", linewidth=2.0, marker='v')\n",
    "fig = plt.plot(x[:len(compression_factors_base)], (1 - base_compression_accuracies) * 100, label=\"Neural Network, Equiv. Size\", \\\n",
    "         linewidth=2.0, marker='o', linestyle='--', color='black')\n",
    "plt.xticks(x, [\"1\", \"1/2\", \"1/4\", \"1/8\", \"1/16\", \"1/32\", \"1/64\", \"1/128\"])\n",
    "leg = plt.legend()"
   ]
  },
  {
   "cell_type": "code",
   "execution_count": 141,
   "metadata": {
    "collapsed": false
   },
   "outputs": [],
   "source": [
    "with open('compression_equiv.png','wb') as f:\n",
    "    fig[0].figure.savefig(f, format='png', dpi=144)"
   ]
  },
  {
   "cell_type": "code",
   "execution_count": null,
   "metadata": {
    "collapsed": true
   },
   "outputs": [],
   "source": []
  }
 ],
 "metadata": {
  "kernelspec": {
   "display_name": "Python [default]",
   "language": "python",
   "name": "python3"
  },
  "language_info": {
   "codemirror_mode": {
    "name": "ipython",
    "version": 3
   },
   "file_extension": ".py",
   "mimetype": "text/x-python",
   "name": "python",
   "nbconvert_exporter": "python",
   "pygments_lexer": "ipython3",
   "version": "3.6.1"
  }
 },
 "nbformat": 4,
 "nbformat_minor": 2
}
